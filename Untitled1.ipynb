{
 "cells": [
  {
   "cell_type": "code",
   "execution_count": 7,
   "metadata": {},
   "outputs": [],
   "source": [
    "def trip (a,b):\n",
    "    ra=0\n",
    "    rb=0\n",
    "    rs=[]\n",
    "    if a[0]>b[0]:\n",
    "        ra=ra+1\n",
    "    elif a[0]<b[0]:\n",
    "        rb=rb+1\n",
    "    else:\n",
    "        ra=ra\n",
    "        rb=rb\n",
    "        ra=0\n",
    "    if a[1]>b[1]:\n",
    "        ra=ra+1\n",
    "    elif a[1]<b[1]:\n",
    "        rb=rb+1\n",
    "    else:\n",
    "        ra=ra\n",
    "        rb=rb\n",
    "    if a[2]>b[2]:\n",
    "        ra=ra+1\n",
    "    elif a[2]<b[2]:\n",
    "        rb=rb+1\n",
    "    else:\n",
    "        ra=ra\n",
    "        rb=rb\n",
    "    rs=[ra,rb]\n",
    "    ra,rb\n",
    "    "
   ]
  },
  {
   "cell_type": "code",
   "execution_count": 8,
   "metadata": {},
   "outputs": [
    {
     "name": "stdout",
     "output_type": "stream",
     "text": [
      "10 20 30\n",
      "40 10 15\n"
     ]
    }
   ],
   "source": [
    "a=[int(x) for x in input().split()]\n",
    "b=[int(y) for y in input().split()]"
   ]
  },
  {
   "cell_type": "code",
   "execution_count": 10,
   "metadata": {
    "scrolled": true
   },
   "outputs": [],
   "source": [
    "trip(a,b)"
   ]
  },
  {
   "cell_type": "code",
   "execution_count": 13,
   "metadata": {},
   "outputs": [
    {
     "data": {
      "text/plain": [
       "60"
      ]
     },
     "execution_count": 13,
     "metadata": {},
     "output_type": "execute_result"
    }
   ],
   "source": [
    "sum(a)"
   ]
  },
  {
   "cell_type": "code",
   "execution_count": 18,
   "metadata": {},
   "outputs": [
    {
     "name": "stdout",
     "output_type": "stream",
     "text": [
      "1000000001 1000000001 1000000001 1000000001 1000000001\n"
     ]
    }
   ],
   "source": [
    "mas=[int(q) for q in input().split()]"
   ]
  },
  {
   "cell_type": "code",
   "execution_count": 19,
   "metadata": {},
   "outputs": [
    {
     "data": {
      "text/plain": [
       "5000000005"
      ]
     },
     "execution_count": 19,
     "metadata": {},
     "output_type": "execute_result"
    }
   ],
   "source": [
    "sum(mas)"
   ]
  },
  {
   "cell_type": "code",
   "execution_count": 23,
   "metadata": {},
   "outputs": [
    {
     "name": "stdout",
     "output_type": "stream",
     "text": [
      "5\n",
      "1000000001 1000000002 1000000003 1000000004 1000000005\n",
      "5000000015\n"
     ]
    }
   ],
   "source": [
    "n2=int(input())\n",
    "mas=[0]*n2\n",
    "mas=[int(q) for q in input().split()]\n",
    "print(sum(mas))"
   ]
  },
  {
   "cell_type": "code",
   "execution_count": 22,
   "metadata": {},
   "outputs": [
    {
     "data": {
      "text/plain": [
       "[0, 0, 0]"
      ]
     },
     "execution_count": 22,
     "metadata": {},
     "output_type": "execute_result"
    }
   ],
   "source": [
    "mas"
   ]
  },
  {
   "cell_type": "markdown",
   "metadata": {},
   "source": []
  }
 ],
 "metadata": {
  "kernelspec": {
   "display_name": "Python 3",
   "language": "python",
   "name": "python3"
  },
  "language_info": {
   "codemirror_mode": {
    "name": "ipython",
    "version": 3
   },
   "file_extension": ".py",
   "mimetype": "text/x-python",
   "name": "python",
   "nbconvert_exporter": "python",
   "pygments_lexer": "ipython3",
   "version": "3.6.5"
  }
 },
 "nbformat": 4,
 "nbformat_minor": 2
}
