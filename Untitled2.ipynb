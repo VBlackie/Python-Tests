{
 "cells": [
  {
   "cell_type": "code",
   "execution_count": 18,
   "metadata": {},
   "outputs": [
    {
     "name": "stdout",
     "output_type": "stream",
     "text": [
      "4 8\n",
      "30\n"
     ]
    }
   ],
   "source": [
    "a=[int(x) for x in input().split()]\n",
    "c=[]\n",
    "for x in range(a[0],a[1]+1):\n",
    "    c.append(x)\n",
    "print(sum(c))"
   ]
  },
  {
   "cell_type": "code",
   "execution_count": 23,
   "metadata": {},
   "outputs": [
    {
     "name": "stdout",
     "output_type": "stream",
     "text": [
      "5\n",
      "[0, 0, 0, 0, 0]\n",
      "1 7 2 4 5\n",
      "[1, 7, 2, 4, 5]\n",
      "[1, 2, 4, 5, 7]\n",
      "7\n"
     ]
    }
   ],
   "source": [
    "d=input()\n",
    "e=[0]*int(d)\n",
    "print(e)\n",
    "e=[int(y) for y in input().split()]\n",
    "print(e)\n",
    "e.sort()\n",
    "\n",
    "print(e)\n",
    "cont=0\n",
    "while cont==0:\n",
    "    for z in e:\n",
    "        if z%2!=0:\n",
    "            prim=(max(e))\n",
    "            cont=cont+1\n",
    "            break\n",
    "        else:\n",
    "            pass\n",
    "print(prim)\n",
    "            \n",
    "   "
   ]
  },
  {
   "cell_type": "code",
   "execution_count": null,
   "metadata": {},
   "outputs": [],
   "source": [
    "d=input()\n",
    "e=[0]*int(d)\n",
    "e=[int(y) for y in input().split()]\n",
    "e.sort()\n",
    "f=set(e)\n",
    "f.remove(max(f))\n",
    "print(max(f))"
   ]
  },
  {
   "cell_type": "code",
   "execution_count": null,
   "metadata": {},
   "outputs": [],
   "source": [
    "f=[int(x1) for x1 in input().split()]\n",
    "g=[int(x2) for x2 in input().split()]\n",
    "h=[int(x3) for x3 in input().split()]\n",
    "\n",
    "i=[3]"
   ]
  },
  {
   "cell_type": "markdown",
   "metadata": {},
   "source": [
    "d=input()\n",
    "e=[0]*int(d)\n",
    "e=[int(y) for y in input().split()]\n",
    "e.sort()\n",
    "e.remove(max(e))\n",
    "cont=0\n",
    "while cont==0:\n",
    "    for z in e:\n",
    "        if z%2!=0:\n",
    "            prim=(max(e))\n",
    "            cont=cont+1\n",
    "            break\n",
    "        else:\n",
    "            pass\n",
    "print(prim)"
   ]
  },
  {
   "cell_type": "code",
   "execution_count": null,
   "metadata": {},
   "outputs": [],
   "source": [
    "d=input()\n",
    "e=[0]*int(d)\n",
    "e=[int(y) for y in input().split()]\n",
    "e.sort(reverse=True)\n",
    "e.remove(max(e))\n",
    "cont=0\n",
    "count=1\n",
    "while count==1:\n",
    "    for z in e:\n",
    "        if z%2!=0:\n",
    "            prim=(z)\n",
    "            count=count+1\n",
    "            break\n",
    "        else:\n",
    "            pass\n",
    "print(prim)"
   ]
  },
  {
   "cell_type": "code",
   "execution_count": 3,
   "metadata": {},
   "outputs": [
    {
     "name": "stdout",
     "output_type": "stream",
     "text": [
      "5\n",
      "1 2 3 4 5 \n",
      "4\n"
     ]
    }
   ],
   "source": [
    "d=input()\n",
    "e=[0]*int(d)\n",
    "e=[int(y) for y in input().split()]\n",
    "e.sort(reverse=True)\n",
    "count=1\n",
    "i=int(d)-1\n",
    "while count==1:\n",
    "    for z in e:\n",
    "        if i%2==1:\n",
    "            prim=(z)\n",
    "            count=count+1\n",
    "            break\n",
    "        else:\n",
    "            i=i-1\n",
    "print(prim)"
   ]
  },
  {
   "cell_type": "code",
   "execution_count": 8,
   "metadata": {},
   "outputs": [
    {
     "name": "stdout",
     "output_type": "stream",
     "text": [
      "5\n",
      "[0, 0, 0, 0, 0]\n",
      "1 5 2 3 7\n",
      "[1, 5, 2, 3, 7]\n",
      "1\n",
      "5\n",
      "2\n",
      "3\n",
      "7\n"
     ]
    }
   ],
   "source": [
    "x=input()\n",
    "a=[0]*int(x)\n",
    "print(a)\n",
    "a=[int(y) for y in input().split()]\n",
    "print(a)\n",
    "for j in a:\n",
    "    print(j)"
   ]
  },
  {
   "cell_type": "code",
   "execution_count": 9,
   "metadata": {},
   "outputs": [],
   "source": [
    "tup=tuple('coconoto')"
   ]
  },
  {
   "cell_type": "code",
   "execution_count": 10,
   "metadata": {},
   "outputs": [
    {
     "data": {
      "text/plain": [
       "('c', 'o', 'c', 'o', 'n', 'o', 't', 'o')"
      ]
     },
     "execution_count": 10,
     "metadata": {},
     "output_type": "execute_result"
    }
   ],
   "source": [
    "tup"
   ]
  },
  {
   "cell_type": "code",
   "execution_count": 11,
   "metadata": {},
   "outputs": [
    {
     "data": {
      "text/plain": [
       "\"('c', 'o', 'c', 'o', 'n', 'o', 't', 'o')\""
      ]
     },
     "execution_count": 11,
     "metadata": {},
     "output_type": "execute_result"
    }
   ],
   "source": [
    "str(tup)"
   ]
  },
  {
   "cell_type": "code",
   "execution_count": 12,
   "metadata": {},
   "outputs": [
    {
     "data": {
      "text/plain": [
       "('c', 'c', 'n', 't')"
      ]
     },
     "execution_count": 12,
     "metadata": {},
     "output_type": "execute_result"
    }
   ],
   "source": [
    "tup[0::2]"
   ]
  },
  {
   "cell_type": "code",
   "execution_count": 13,
   "metadata": {},
   "outputs": [
    {
     "name": "stdout",
     "output_type": "stream",
     "text": [
      "['c', 'o', 'c', 'o', 'n', 'o', 't', 'o']\n"
     ]
    }
   ],
   "source": [
    "a22=list(tup)\n",
    "print(a22)"
   ]
  },
  {
   "cell_type": "code",
   "execution_count": 14,
   "metadata": {},
   "outputs": [
    {
     "name": "stdout",
     "output_type": "stream",
     "text": [
      "1 23 45 coco perro esta bonito 75\n"
     ]
    }
   ],
   "source": [
    "a23= [y for y in input().split()]"
   ]
  },
  {
   "cell_type": "code",
   "execution_count": 15,
   "metadata": {},
   "outputs": [
    {
     "data": {
      "text/plain": [
       "['1', '23', '45', 'coco', 'perro', 'esta', 'bonito', '75']"
      ]
     },
     "execution_count": 15,
     "metadata": {},
     "output_type": "execute_result"
    }
   ],
   "source": [
    "a23"
   ]
  },
  {
   "cell_type": "code",
   "execution_count": 16,
   "metadata": {},
   "outputs": [
    {
     "name": "stdout",
     "output_type": "stream",
     "text": [
      "('1', '23', '45', 'coco', 'perro', 'esta', 'bonito', '75')\n"
     ]
    }
   ],
   "source": [
    "a24=tuple(a23)\n",
    "print(a24)"
   ]
  },
  {
   "cell_type": "code",
   "execution_count": 17,
   "metadata": {},
   "outputs": [],
   "source": [
    "a25='ella era tan fea que hacia llorar a las cebollas'\n",
    "a26=list(a25)"
   ]
  },
  {
   "cell_type": "code",
   "execution_count": 18,
   "metadata": {},
   "outputs": [
    {
     "data": {
      "text/plain": [
       "['e',\n",
       " 'l',\n",
       " 'l',\n",
       " 'a',\n",
       " ' ',\n",
       " 'e',\n",
       " 'r',\n",
       " 'a',\n",
       " ' ',\n",
       " 't',\n",
       " 'a',\n",
       " 'n',\n",
       " ' ',\n",
       " 'f',\n",
       " 'e',\n",
       " 'a',\n",
       " ' ',\n",
       " 'q',\n",
       " 'u',\n",
       " 'e',\n",
       " ' ',\n",
       " 'h',\n",
       " 'a',\n",
       " 'c',\n",
       " 'i',\n",
       " 'a',\n",
       " ' ',\n",
       " 'l',\n",
       " 'l',\n",
       " 'o',\n",
       " 'r',\n",
       " 'a',\n",
       " 'r',\n",
       " ' ',\n",
       " 'a',\n",
       " ' ',\n",
       " 'l',\n",
       " 'a',\n",
       " 's',\n",
       " ' ',\n",
       " 'c',\n",
       " 'e',\n",
       " 'b',\n",
       " 'o',\n",
       " 'l',\n",
       " 'l',\n",
       " 'a',\n",
       " 's']"
      ]
     },
     "execution_count": 18,
     "metadata": {},
     "output_type": "execute_result"
    }
   ],
   "source": [
    "a26"
   ]
  },
  {
   "cell_type": "code",
   "execution_count": 20,
   "metadata": {},
   "outputs": [
    {
     "name": "stdout",
     "output_type": "stream",
     "text": [
      "['1', '23', '45', 'coco', 'perro', 'esta', 'bonito', '75', 'otro coco']\n"
     ]
    }
   ],
   "source": [
    "a23.append('otro coco')\n",
    "print(a23)"
   ]
  },
  {
   "cell_type": "code",
   "execution_count": 21,
   "metadata": {},
   "outputs": [
    {
     "name": "stdout",
     "output_type": "stream",
     "text": [
      "['1', '23', '45', 'coco', 'perro', 'esta', 'bonito', '75']\n"
     ]
    }
   ],
   "source": [
    "a23.remove('otro coco')\n",
    "print(a23)"
   ]
  },
  {
   "cell_type": "code",
   "execution_count": 8,
   "metadata": {},
   "outputs": [
    {
     "name": "stdout",
     "output_type": "stream",
     "text": [
      "alc\n",
      "acio\n",
      "alumocihclahC\n"
     ]
    }
   ],
   "source": [
    "ss='Chalchicomula'\n",
    "print(ss[2:5])\n",
    "print(ss[2:10:2])\n",
    "print(ss[::-1])"
   ]
  },
  {
   "cell_type": "code",
   "execution_count": 9,
   "metadata": {},
   "outputs": [
    {
     "ename": "NameError",
     "evalue": "name 'a23' is not defined",
     "output_type": "error",
     "traceback": [
      "\u001b[1;31m---------------------------------------------------------------------------\u001b[0m",
      "\u001b[1;31mNameError\u001b[0m                                 Traceback (most recent call last)",
      "\u001b[1;32m<ipython-input-9-7fd38ef31e5b>\u001b[0m in \u001b[0;36m<module>\u001b[1;34m()\u001b[0m\n\u001b[1;32m----> 1\u001b[1;33m \u001b[0ma23\u001b[0m\u001b[1;33m\u001b[0m\u001b[0m\n\u001b[0m",
      "\u001b[1;31mNameError\u001b[0m: name 'a23' is not defined"
     ]
    }
   ],
   "source": [
    "a23"
   ]
  },
  {
   "cell_type": "code",
   "execution_count": 13,
   "metadata": {},
   "outputs": [
    {
     "name": "stdout",
     "output_type": "stream",
     "text": [
      "estaban los tomatitos muy contentitos cuando me los comi\n",
      "['estaban', 'los', 'tomatitos', 'muy', 'contentitos', 'cuando', 'me', 'los', 'comi']\n",
      "{'estaban': 0, 'los': 7, 'tomatitos': 2, 'muy': 3, 'contentitos': 4, 'cuando': 5, 'me': 6, 'comi': 8}\n"
     ]
    }
   ],
   "source": [
    "a23= [y for y in input().split()]\n",
    "print(a23)\n",
    "i23={}\n",
    "for i,v in enumerate(a23):\n",
    "    i23[v]=i\n",
    "print(i23)"
   ]
  },
  {
   "cell_type": "code",
   "execution_count": null,
   "metadata": {},
   "outputs": [],
   "source": []
  }
 ],
 "metadata": {
  "kernelspec": {
   "display_name": "Python 3",
   "language": "python",
   "name": "python3"
  },
  "language_info": {
   "codemirror_mode": {
    "name": "ipython",
    "version": 3
   },
   "file_extension": ".py",
   "mimetype": "text/x-python",
   "name": "python",
   "nbconvert_exporter": "python",
   "pygments_lexer": "ipython3",
   "version": "3.6.5"
  }
 },
 "nbformat": 4,
 "nbformat_minor": 2
}
