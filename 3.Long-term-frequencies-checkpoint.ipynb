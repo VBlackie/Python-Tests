{
 "cells": [
  {
   "cell_type": "code",
   "execution_count": 1,
   "metadata": {},
   "outputs": [
    {
     "name": "stdout",
     "output_type": "stream",
     "text": [
      "Populating the interactive namespace from numpy and matplotlib\n"
     ]
    }
   ],
   "source": [
    "%pylab inline"
   ]
  },
  {
   "cell_type": "code",
   "execution_count": 1,
   "metadata": {},
   "outputs": [
    {
     "name": "stdout",
     "output_type": "stream",
     "text": [
      "\u001b[41m6\u001b[0m \u001b[42m1\u001b[0m \u001b[43m3\u001b[0m \u001b[44m4\u001b[0m\n"
     ]
    }
   ],
   "source": [
    "#Create list of color symbols\n",
    "red_bck=\"\\x1b[41m%s\\x1b[0m\"\n",
    "green_bck=\"\\x1b[42m%s\\x1b[0m\"\n",
    "tan_bck=\"\\x1b[43m%s\\x1b[0m\"\n",
    "blue_bck=\"\\x1b[44m%s\\x1b[0m\"\n",
    "sym=[red_bck%'6',green_bck%'1',tan_bck%'3',blue_bck%'4']\n",
    "print(sym[0],sym[1],sym[2],sym[3])"
   ]
  },
  {
   "cell_type": "code",
   "execution_count": 2,
   "metadata": {},
   "outputs": [
    {
     "ename": "NameError",
     "evalue": "name 'cumsum' is not defined",
     "output_type": "error",
     "traceback": [
      "\u001b[1;31m---------------------------------------------------------------------------\u001b[0m",
      "\u001b[1;31mNameError\u001b[0m                                 Traceback (most recent call last)",
      "\u001b[1;32m<ipython-input-2-cb861f186f89>\u001b[0m in \u001b[0;36m<module>\u001b[1;34m\u001b[0m\n\u001b[0;32m      1\u001b[0m \u001b[0mp\u001b[0m\u001b[1;33m=\u001b[0m\u001b[1;33m[\u001b[0m\u001b[1;36m0.0\u001b[0m\u001b[1;33m,\u001b[0m\u001b[1;36m0.1\u001b[0m\u001b[1;33m,\u001b[0m\u001b[1;36m0.2\u001b[0m\u001b[1;33m,\u001b[0m\u001b[1;36m0.3\u001b[0m\u001b[1;33m,\u001b[0m\u001b[1;36m0.4\u001b[0m\u001b[1;33m]\u001b[0m\u001b[1;33m\u001b[0m\u001b[1;33m\u001b[0m\u001b[0m\n\u001b[1;32m----> 2\u001b[1;33m \u001b[0mc\u001b[0m\u001b[1;33m=\u001b[0m\u001b[0mcumsum\u001b[0m\u001b[1;33m(\u001b[0m\u001b[0mp\u001b[0m\u001b[1;33m)\u001b[0m\u001b[1;33m\u001b[0m\u001b[1;33m\u001b[0m\u001b[0m\n\u001b[0m\u001b[0;32m      3\u001b[0m \u001b[1;32mfor\u001b[0m \u001b[0mi\u001b[0m \u001b[1;32min\u001b[0m \u001b[0mrange\u001b[0m\u001b[1;33m(\u001b[0m\u001b[1;36m4\u001b[0m\u001b[1;33m)\u001b[0m\u001b[1;33m:\u001b[0m\u001b[1;33m\u001b[0m\u001b[1;33m\u001b[0m\u001b[0m\n\u001b[0;32m      4\u001b[0m     \u001b[0mprint\u001b[0m\u001b[1;33m(\u001b[0m\u001b[1;34m'symbol=%s, probability=%5.3f'\u001b[0m\u001b[1;33m%\u001b[0m\u001b[1;33m(\u001b[0m\u001b[0msym\u001b[0m\u001b[1;33m[\u001b[0m\u001b[0mi\u001b[0m\u001b[1;33m]\u001b[0m\u001b[1;33m,\u001b[0m\u001b[0mp\u001b[0m\u001b[1;33m[\u001b[0m\u001b[0mi\u001b[0m\u001b[1;33m]\u001b[0m\u001b[1;33m)\u001b[0m\u001b[1;33m)\u001b[0m\u001b[1;33m\u001b[0m\u001b[1;33m\u001b[0m\u001b[0m\n",
      "\u001b[1;31mNameError\u001b[0m: name 'cumsum' is not defined"
     ]
    }
   ],
   "source": [
    "p=[0.0,0.1,0.2,0.3,0.4]\n",
    "c=cumsum(p)\n",
    "for i in range(4):\n",
    "    print('symbol=%s, probability=%5.3f'%(sym[i],p[i]))"
   ]
  },
  {
   "cell_type": "code",
   "execution_count": 4,
   "metadata": {},
   "outputs": [],
   "source": [
    "def rand2sym(vec):\n",
    "    \"\"\" Transform an array of random numbers, distributed uniformly in [0,1]\n",
    "    into a sequence of symbols, chosen according to the probabilities defined by c (cumul of p)\"\"\"\n",
    "    ans=[]\n",
    "    counts={i:0 for i in range(4)}\n",
    "    for x in vec:\n",
    "        for i in range(len(c)-1):\n",
    "            if x>=c[i] and x<c[i+1]:\n",
    "                ans.append(sym[i])\n",
    "                counts[i]+=1\n",
    "                break\n",
    "    return ans,counts"
   ]
  },
  {
   "cell_type": "code",
   "execution_count": 5,
   "metadata": {},
   "outputs": [
    {
     "name": "stdout",
     "output_type": "stream",
     "text": [
      "\u001b[41m6\u001b[0m\u001b[43m3\u001b[0m\u001b[44m4\u001b[0m\u001b[44m4\u001b[0m\u001b[41m6\u001b[0m\u001b[41m6\u001b[0m\u001b[44m4\u001b[0m\u001b[42m1\u001b[0m\u001b[42m1\u001b[0m\u001b[43m3\u001b[0m\u001b[44m4\u001b[0m\u001b[44m4\u001b[0m\u001b[43m3\u001b[0m\u001b[43m3\u001b[0m\u001b[44m4\u001b[0m\u001b[43m3\u001b[0m\u001b[42m1\u001b[0m\u001b[44m4\u001b[0m\u001b[42m1\u001b[0m\u001b[44m4\u001b[0m\u001b[43m3\u001b[0m\u001b[41m6\u001b[0m\u001b[41m6\u001b[0m\u001b[44m4\u001b[0m\u001b[43m3\u001b[0m\u001b[43m3\u001b[0m\u001b[42m1\u001b[0m\u001b[42m1\u001b[0m\u001b[42m1\u001b[0m\u001b[44m4\u001b[0m\u001b[42m1\u001b[0m\u001b[44m4\u001b[0m\u001b[44m4\u001b[0m\u001b[42m1\u001b[0m\u001b[41m6\u001b[0m\u001b[44m4\u001b[0m\u001b[43m3\u001b[0m\u001b[43m3\u001b[0m\u001b[42m1\u001b[0m\u001b[44m4\u001b[0m\u001b[44m4\u001b[0m\u001b[44m4\u001b[0m\u001b[44m4\u001b[0m\u001b[44m4\u001b[0m\u001b[43m3\u001b[0m\u001b[42m1\u001b[0m\u001b[43m3\u001b[0m\u001b[44m4\u001b[0m\u001b[42m1\u001b[0m\u001b[44m4\u001b[0m\u001b[43m3\u001b[0m\u001b[44m4\u001b[0m\u001b[44m4\u001b[0m\u001b[43m3\u001b[0m\u001b[44m4\u001b[0m\u001b[43m3\u001b[0m\u001b[43m3\u001b[0m\u001b[44m4\u001b[0m\u001b[42m1\u001b[0m\u001b[41m6\u001b[0m\u001b[44m4\u001b[0m\u001b[43m3\u001b[0m\u001b[44m4\u001b[0m\u001b[42m1\u001b[0m\u001b[44m4\u001b[0m\u001b[44m4\u001b[0m\u001b[43m3\u001b[0m\u001b[44m4\u001b[0m\u001b[43m3\u001b[0m\u001b[42m1\u001b[0m\u001b[42m1\u001b[0m\u001b[44m4\u001b[0m\u001b[44m4\u001b[0m\u001b[44m4\u001b[0m\u001b[42m1\u001b[0m\u001b[44m4\u001b[0m\u001b[42m1\u001b[0m\u001b[44m4\u001b[0m\u001b[41m6\u001b[0m\u001b[43m3\u001b[0m\u001b[41m6\u001b[0m\u001b[44m4\u001b[0m\u001b[43m3\u001b[0m\u001b[43m3\u001b[0m\u001b[41m6\u001b[0m\u001b[44m4\u001b[0m\u001b[44m4\u001b[0m\u001b[42m1\u001b[0m\u001b[42m1\u001b[0m\u001b[44m4\u001b[0m\u001b[42m1\u001b[0m\u001b[44m4\u001b[0m\u001b[41m6\u001b[0m\u001b[44m4\u001b[0m\u001b[44m4\u001b[0m\u001b[43m3\u001b[0m\u001b[44m4\u001b[0m\u001b[44m4\u001b[0m\u001b[42m1\u001b[0m\u001b[43m3\u001b[0m\u001b[41m6\u001b[0m\u001b[42m1\u001b[0m\u001b[42m1\u001b[0m\u001b[43m3\u001b[0m\u001b[42m1\u001b[0m\u001b[42m1\u001b[0m\u001b[41m6\u001b[0m\u001b[44m4\u001b[0m\u001b[44m4\u001b[0m\u001b[43m3\u001b[0m\u001b[43m3\u001b[0m\u001b[41m6\u001b[0m\u001b[43m3\u001b[0m\u001b[43m3\u001b[0m\u001b[41m6\u001b[0m\u001b[42m1\u001b[0m\u001b[42m1\u001b[0m\u001b[43m3\u001b[0m\u001b[44m4\u001b[0m\u001b[43m3\u001b[0m\u001b[42m1\u001b[0m\u001b[43m3\u001b[0m\u001b[43m3\u001b[0m\u001b[41m6\u001b[0m\u001b[42m1\u001b[0m\u001b[44m4\u001b[0m\u001b[44m4\u001b[0m\u001b[43m3\u001b[0m\u001b[43m3\u001b[0m\u001b[43m3\u001b[0m\u001b[41m6\u001b[0m\u001b[42m1\u001b[0m\u001b[41m6\u001b[0m\u001b[43m3\u001b[0m\u001b[44m4\u001b[0m\u001b[42m1\u001b[0m\u001b[44m4\u001b[0m\u001b[44m4\u001b[0m\u001b[44m4\u001b[0m\u001b[44m4\u001b[0m\u001b[42m1\u001b[0m\u001b[42m1\u001b[0m\u001b[44m4\u001b[0m\u001b[43m3\u001b[0m\u001b[42m1\u001b[0m\u001b[44m4\u001b[0m\u001b[42m1\u001b[0m\u001b[42m1\u001b[0m\u001b[43m3\u001b[0m\u001b[44m4\u001b[0m\u001b[44m4\u001b[0m\u001b[43m3\u001b[0m\u001b[42m1\u001b[0m\u001b[41m6\u001b[0m\u001b[44m4\u001b[0m\u001b[42m1\u001b[0m\u001b[42m1\u001b[0m\u001b[41m6\u001b[0m\u001b[43m3\u001b[0m\u001b[43m3\u001b[0m\u001b[41m6\u001b[0m\u001b[43m3\u001b[0m\u001b[42m1\u001b[0m\u001b[44m4\u001b[0m\u001b[44m4\u001b[0m\u001b[42m1\u001b[0m\u001b[44m4\u001b[0m\u001b[43m3\u001b[0m\u001b[41m6\u001b[0m\u001b[44m4\u001b[0m\u001b[43m3\u001b[0m\u001b[42m1\u001b[0m\u001b[43m3\u001b[0m\u001b[44m4\u001b[0m\u001b[44m4\u001b[0m\u001b[43m3\u001b[0m\u001b[44m4\u001b[0m\u001b[42m1\u001b[0m\u001b[41m6\u001b[0m\u001b[44m4\u001b[0m\u001b[42m1\u001b[0m\u001b[44m4\u001b[0m\u001b[42m1\u001b[0m\u001b[44m4\u001b[0m\u001b[42m1\u001b[0m\u001b[44m4\u001b[0m\u001b[42m1\u001b[0m\u001b[44m4\u001b[0m\u001b[41m6\u001b[0m\u001b[44m4\u001b[0m\u001b[43m3\u001b[0m\u001b[42m1\u001b[0m\u001b[43m3\u001b[0m\u001b[41m6\u001b[0m\u001b[42m1\u001b[0m\u001b[44m4\u001b[0m\u001b[42m1\u001b[0m\u001b[42m1\u001b[0m\u001b[42m1\u001b[0m\u001b[42m1\u001b[0m\u001b[44m4\u001b[0m\u001b[42m1\u001b[0m\u001b[42m1\u001b[0m\u001b[44m4\u001b[0m\u001b[44m4\u001b[0m\u001b[44m4\u001b[0m\u001b[42m1\u001b[0m\u001b[43m3\u001b[0m\u001b[44m4\u001b[0m\u001b[43m3\u001b[0m\u001b[42m1\u001b[0m\u001b[43m3\u001b[0m\u001b[44m4\u001b[0m\u001b[44m4\u001b[0m\u001b[44m4\u001b[0m\u001b[44m4\u001b[0m\u001b[42m1\u001b[0m\u001b[43m3\u001b[0m\u001b[43m3\u001b[0m\u001b[44m4\u001b[0m\u001b[43m3\u001b[0m\u001b[42m1\u001b[0m\u001b[44m4\u001b[0m\u001b[41m6\u001b[0m\u001b[42m1\u001b[0m\u001b[42m1\u001b[0m\u001b[43m3\u001b[0m\u001b[44m4\u001b[0m\u001b[42m1\u001b[0m\u001b[44m4\u001b[0m\u001b[41m6\u001b[0m\u001b[43m3\u001b[0m\u001b[43m3\u001b[0m\u001b[44m4\u001b[0m\u001b[42m1\u001b[0m\u001b[43m3\u001b[0m\u001b[44m4\u001b[0m\u001b[42m1\u001b[0m\u001b[43m3\u001b[0m\u001b[44m4\u001b[0m\u001b[43m3\u001b[0m\u001b[44m4\u001b[0m\u001b[41m6\u001b[0m\u001b[42m1\u001b[0m\u001b[43m3\u001b[0m\u001b[44m4\u001b[0m\u001b[43m3\u001b[0m\u001b[44m4\u001b[0m\u001b[44m4\u001b[0m\u001b[42m1\u001b[0m\u001b[44m4\u001b[0m\u001b[44m4\u001b[0m\u001b[42m1\u001b[0m\u001b[43m3\u001b[0m\u001b[42m1\u001b[0m\u001b[44m4\u001b[0m\u001b[43m3\u001b[0m\u001b[43m3\u001b[0m\u001b[42m1\u001b[0m\u001b[41m6\u001b[0m\u001b[42m1\u001b[0m\u001b[44m4\u001b[0m\u001b[44m4\u001b[0m\u001b[44m4\u001b[0m\u001b[44m4\u001b[0m\u001b[44m4\u001b[0m\u001b[43m3\u001b[0m\u001b[42m1\u001b[0m\u001b[43m3\u001b[0m\u001b[44m4\u001b[0m\u001b[43m3\u001b[0m\u001b[43m3\u001b[0m\u001b[42m1\u001b[0m\u001b[43m3\u001b[0m\u001b[42m1\u001b[0m\u001b[43m3\u001b[0m\u001b[44m4\u001b[0m\u001b[44m4\u001b[0m\u001b[43m3\u001b[0m\u001b[44m4\u001b[0m\u001b[43m3\u001b[0m\u001b[44m4\u001b[0m\u001b[44m4\u001b[0m\u001b[41m6\u001b[0m\u001b[44m4\u001b[0m\u001b[43m3\u001b[0m\u001b[43m3\u001b[0m\u001b[44m4\u001b[0m\u001b[41m6\u001b[0m\u001b[44m4\u001b[0m\u001b[44m4\u001b[0m\u001b[42m1\u001b[0m\u001b[43m3\u001b[0m\u001b[44m4\u001b[0m\u001b[44m4\u001b[0m\u001b[41m6\u001b[0m\u001b[43m3\u001b[0m\u001b[43m3\u001b[0m\u001b[44m4\u001b[0m\u001b[42m1\u001b[0m\u001b[43m3\u001b[0m\u001b[43m3\u001b[0m\u001b[41m6\u001b[0m\u001b[43m3\u001b[0m\u001b[43m3\u001b[0m\u001b[44m4\u001b[0m\u001b[41m6\u001b[0m\u001b[42m1\u001b[0m\u001b[44m4\u001b[0m\u001b[44m4\u001b[0m\u001b[44m4\u001b[0m\u001b[44m4\u001b[0m\u001b[44m4\u001b[0m\u001b[43m3\u001b[0m\u001b[43m3\u001b[0m\u001b[42m1\u001b[0m\u001b[44m4\u001b[0m\u001b[44m4\u001b[0m\u001b[44m4\u001b[0m\u001b[44m4\u001b[0m\u001b[44m4\u001b[0m\u001b[44m4\u001b[0m\u001b[44m4\u001b[0m\u001b[43m3\u001b[0m\u001b[42m1\u001b[0m\u001b[42m1\u001b[0m\u001b[42m1\u001b[0m\u001b[43m3\u001b[0m\u001b[44m4\u001b[0m\u001b[43m3\u001b[0m\u001b[44m4\u001b[0m\u001b[44m4\u001b[0m\u001b[42m1\u001b[0m\u001b[44m4\u001b[0m\u001b[44m4\u001b[0m\u001b[44m4\u001b[0m\u001b[42m1\u001b[0m\u001b[43m3\u001b[0m\u001b[43m3\u001b[0m\u001b[41m6\u001b[0m\u001b[44m4\u001b[0m\u001b[42m1\u001b[0m\u001b[44m4\u001b[0m\u001b[44m4\u001b[0m\u001b[43m3\u001b[0m\u001b[41m6\u001b[0m\u001b[44m4\u001b[0m\u001b[43m3\u001b[0m\u001b[43m3\u001b[0m\u001b[42m1\u001b[0m\u001b[44m4\u001b[0m\u001b[42m1\u001b[0m\u001b[43m3\u001b[0m\u001b[42m1\u001b[0m\u001b[44m4\u001b[0m\u001b[43m3\u001b[0m\u001b[42m1\u001b[0m\u001b[44m4\u001b[0m\u001b[43m3\u001b[0m\u001b[42m1\u001b[0m\u001b[43m3\u001b[0m\u001b[43m3\u001b[0m\u001b[44m4\u001b[0m\u001b[43m3\u001b[0m\u001b[44m4\u001b[0m\u001b[42m1\u001b[0m\u001b[44m4\u001b[0m\u001b[41m6\u001b[0m\u001b[44m4\u001b[0m\u001b[43m3\u001b[0m\u001b[43m3\u001b[0m\u001b[44m4\u001b[0m\u001b[43m3\u001b[0m\u001b[42m1\u001b[0m\u001b[43m3\u001b[0m\u001b[42m1\u001b[0m\u001b[43m3\u001b[0m\u001b[44m4\u001b[0m\u001b[43m3\u001b[0m\u001b[42m1\u001b[0m\u001b[44m4\u001b[0m\u001b[43m3\u001b[0m\u001b[43m3\u001b[0m\u001b[42m1\u001b[0m\u001b[42m1\u001b[0m\u001b[43m3\u001b[0m\u001b[44m4\u001b[0m\u001b[43m3\u001b[0m\u001b[41m6\u001b[0m\u001b[42m1\u001b[0m\u001b[44m4\u001b[0m\u001b[42m1\u001b[0m\u001b[42m1\u001b[0m\u001b[44m4\u001b[0m\u001b[44m4\u001b[0m\u001b[44m4\u001b[0m\u001b[43m3\u001b[0m\u001b[42m1\u001b[0m\u001b[44m4\u001b[0m\u001b[43m3\u001b[0m\u001b[44m4\u001b[0m\u001b[43m3\u001b[0m\u001b[44m4\u001b[0m\u001b[42m1\u001b[0m\u001b[43m3\u001b[0m\u001b[42m1\u001b[0m\u001b[42m1\u001b[0m\u001b[43m3\u001b[0m\u001b[44m4\u001b[0m\u001b[42m1\u001b[0m\u001b[44m4\u001b[0m\u001b[44m4\u001b[0m\u001b[43m3\u001b[0m\u001b[42m1\u001b[0m\u001b[44m4\u001b[0m\u001b[44m4\u001b[0m\u001b[44m4\u001b[0m\u001b[42m1\u001b[0m\u001b[42m1\u001b[0m\u001b[42m1\u001b[0m\u001b[44m4\u001b[0m\u001b[44m4\u001b[0m\u001b[43m3\u001b[0m\u001b[44m4\u001b[0m\u001b[43m3\u001b[0m\u001b[43m3\u001b[0m\u001b[43m3\u001b[0m\u001b[41m6\u001b[0m\u001b[43m3\u001b[0m\u001b[42m1\u001b[0m\u001b[44m4\u001b[0m\u001b[43m3\u001b[0m\u001b[41m6\u001b[0m\u001b[42m1\u001b[0m\u001b[42m1\u001b[0m\u001b[43m3\u001b[0m\u001b[44m4\u001b[0m\u001b[44m4\u001b[0m\u001b[44m4\u001b[0m\u001b[41m6\u001b[0m\u001b[43m3\u001b[0m\u001b[44m4\u001b[0m\u001b[42m1\u001b[0m\u001b[41m6\u001b[0m\u001b[44m4\u001b[0m\u001b[44m4\u001b[0m\u001b[44m4\u001b[0m\u001b[44m4\u001b[0m\u001b[42m1\u001b[0m\u001b[43m3\u001b[0m\u001b[44m4\u001b[0m\u001b[41m6\u001b[0m\u001b[44m4\u001b[0m\u001b[41m6\u001b[0m\u001b[42m1\u001b[0m\u001b[42m1\u001b[0m\u001b[41m6\u001b[0m\u001b[43m3\u001b[0m\u001b[42m1\u001b[0m\u001b[44m4\u001b[0m\u001b[43m3\u001b[0m\u001b[44m4\u001b[0m\u001b[44m4\u001b[0m\u001b[44m4\u001b[0m\u001b[42m1\u001b[0m\u001b[43m3\u001b[0m\u001b[44m4\u001b[0m\u001b[44m4\u001b[0m\u001b[44m4\u001b[0m\u001b[41m6\u001b[0m\u001b[43m3\u001b[0m\u001b[44m4\u001b[0m\u001b[44m4\u001b[0m\u001b[43m3\u001b[0m\u001b[42m1\u001b[0m\u001b[44m4\u001b[0m\u001b[43m3\u001b[0m\u001b[41m6\u001b[0m\u001b[43m3\u001b[0m\u001b[44m4\u001b[0m\u001b[44m4\u001b[0m\u001b[44m4\u001b[0m\u001b[42m1\u001b[0m\u001b[44m4\u001b[0m\u001b[42m1\u001b[0m\u001b[44m4\u001b[0m\u001b[41m6\u001b[0m\u001b[41m6\u001b[0m\u001b[42m1\u001b[0m\u001b[42m1\u001b[0m\u001b[44m4\u001b[0m\u001b[43m3\u001b[0m\u001b[43m3\u001b[0m\u001b[42m1\u001b[0m\u001b[44m4\u001b[0m\u001b[43m3\u001b[0m\u001b[44m4\u001b[0m\u001b[43m3\u001b[0m\u001b[44m4\u001b[0m\u001b[43m3\u001b[0m\u001b[42m1\u001b[0m\u001b[42m1\u001b[0m\u001b[43m3\u001b[0m\u001b[43m3\u001b[0m\u001b[42m1\u001b[0m\u001b[44m4\u001b[0m\u001b[42m1\u001b[0m\u001b[42m1\u001b[0m\u001b[42m1\u001b[0m\u001b[41m6\u001b[0m\u001b[43m3\u001b[0m\u001b[43m3\u001b[0m\u001b[44m4\u001b[0m\u001b[43m3\u001b[0m\u001b[44m4\u001b[0m\u001b[42m1\u001b[0m\u001b[44m4\u001b[0m\u001b[44m4\u001b[0m\u001b[44m4\u001b[0m\u001b[44m4\u001b[0m\u001b[43m3\u001b[0m\u001b[44m4\u001b[0m\u001b[42m1\u001b[0m\u001b[43m3\u001b[0m\u001b[42m1\u001b[0m\u001b[43m3\u001b[0m\u001b[43m3\u001b[0m\u001b[44m4\u001b[0m\u001b[41m6\u001b[0m\u001b[42m1\u001b[0m\u001b[43m3\u001b[0m\u001b[42m1\u001b[0m\u001b[42m1\u001b[0m\u001b[44m4\u001b[0m\u001b[44m4\u001b[0m\u001b[44m4\u001b[0m\u001b[42m1\u001b[0m\u001b[42m1\u001b[0m\u001b[44m4\u001b[0m\u001b[43m3\u001b[0m\u001b[44m4\u001b[0m\u001b[44m4\u001b[0m\u001b[44m4\u001b[0m\u001b[44m4\u001b[0m\u001b[43m3\u001b[0m\u001b[43m3\u001b[0m\u001b[44m4\u001b[0m\u001b[42m1\u001b[0m\u001b[41m6\u001b[0m\u001b[44m4\u001b[0m\u001b[42m1\u001b[0m\u001b[44m4\u001b[0m\u001b[44m4\u001b[0m\u001b[43m3\u001b[0m\u001b[42m1\u001b[0m\u001b[44m4\u001b[0m\u001b[43m3\u001b[0m\u001b[43m3\u001b[0m\u001b[43m3\u001b[0m\u001b[44m4\u001b[0m\u001b[44m4\u001b[0m\u001b[44m4\u001b[0m\u001b[42m1\u001b[0m\u001b[44m4\u001b[0m\u001b[44m4\u001b[0m\u001b[42m1\u001b[0m\u001b[42m1\u001b[0m\u001b[43m3\u001b[0m\u001b[41m6\u001b[0m\u001b[44m4\u001b[0m\u001b[43m3\u001b[0m\u001b[41m6\u001b[0m\u001b[42m1\u001b[0m\u001b[44m4\u001b[0m\u001b[41m6\u001b[0m\u001b[44m4\u001b[0m\u001b[43m3\u001b[0m\u001b[42m1\u001b[0m\u001b[44m4\u001b[0m\u001b[44m4\u001b[0m\u001b[44m4\u001b[0m\u001b[44m4\u001b[0m\u001b[44m4\u001b[0m\u001b[42m1\u001b[0m\u001b[44m4\u001b[0m\u001b[43m3\u001b[0m\u001b[41m6\u001b[0m\u001b[42m1\u001b[0m\u001b[42m1\u001b[0m\u001b[43m3\u001b[0m\u001b[43m3\u001b[0m\u001b[41m6\u001b[0m\u001b[42m1\u001b[0m\u001b[41m6\u001b[0m\u001b[43m3\u001b[0m\u001b[44m4\u001b[0m\u001b[43m3\u001b[0m\u001b[41m6\u001b[0m\u001b[42m1\u001b[0m\u001b[43m3\u001b[0m\u001b[44m4\u001b[0m\u001b[44m4\u001b[0m\u001b[42m1\u001b[0m\u001b[43m3\u001b[0m\u001b[42m1\u001b[0m\u001b[44m4\u001b[0m\u001b[43m3\u001b[0m\u001b[41m6\u001b[0m\u001b[42m1\u001b[0m\u001b[43m3\u001b[0m\u001b[42m1\u001b[0m\u001b[43m3\u001b[0m\u001b[43m3\u001b[0m\u001b[43m3\u001b[0m\u001b[44m4\u001b[0m\u001b[41m6\u001b[0m\u001b[44m4\u001b[0m\u001b[43m3\u001b[0m\u001b[43m3\u001b[0m\u001b[44m4\u001b[0m\u001b[44m4\u001b[0m\u001b[43m3\u001b[0m\u001b[42m1\u001b[0m\u001b[44m4\u001b[0m\u001b[44m4\u001b[0m\u001b[43m3\u001b[0m\u001b[42m1\u001b[0m\u001b[44m4\u001b[0m\u001b[44m4\u001b[0m\u001b[44m4\u001b[0m\u001b[42m1\u001b[0m\u001b[43m3\u001b[0m\u001b[44m4\u001b[0m\u001b[44m4\u001b[0m\u001b[44m4\u001b[0m\u001b[43m3\u001b[0m\u001b[44m4\u001b[0m\u001b[42m1\u001b[0m\u001b[44m4\u001b[0m\u001b[41m6\u001b[0m\u001b[42m1\u001b[0m\u001b[44m4\u001b[0m\u001b[43m3\u001b[0m\u001b[44m4\u001b[0m\u001b[44m4\u001b[0m\u001b[44m4\u001b[0m\u001b[44m4\u001b[0m\u001b[43m3\u001b[0m\u001b[43m3\u001b[0m\u001b[44m4\u001b[0m\u001b[44m4\u001b[0m\u001b[44m4\u001b[0m\u001b[43m3\u001b[0m\u001b[43m3\u001b[0m\u001b[42m1\u001b[0m\u001b[42m1\u001b[0m\u001b[41m6\u001b[0m\u001b[43m3\u001b[0m\u001b[43m3\u001b[0m\u001b[44m4\u001b[0m\u001b[44m4\u001b[0m\u001b[42m1\u001b[0m\u001b[41m6\u001b[0m\u001b[43m3\u001b[0m\u001b[43m3\u001b[0m\u001b[43m3\u001b[0m\u001b[42m1\u001b[0m\u001b[41m6\u001b[0m\u001b[41m6\u001b[0m\u001b[42m1\u001b[0m\u001b[43m3\u001b[0m\u001b[41m6\u001b[0m\u001b[42m1\u001b[0m\u001b[44m4\u001b[0m\u001b[44m4\u001b[0m\u001b[44m4\u001b[0m\u001b[42m1\u001b[0m\u001b[43m3\u001b[0m\u001b[42m1\u001b[0m\u001b[44m4\u001b[0m\u001b[44m4\u001b[0m\u001b[43m3\u001b[0m\u001b[42m1\u001b[0m\u001b[43m3\u001b[0m\u001b[42m1\u001b[0m\u001b[44m4\u001b[0m\u001b[44m4\u001b[0m\u001b[44m4\u001b[0m\u001b[43m3\u001b[0m\u001b[44m4\u001b[0m\u001b[44m4\u001b[0m\u001b[41m6\u001b[0m\u001b[42m1\u001b[0m\u001b[44m4\u001b[0m\u001b[44m4\u001b[0m\u001b[44m4\u001b[0m\u001b[43m3\u001b[0m\u001b[44m4\u001b[0m\u001b[42m1\u001b[0m\u001b[44m4\u001b[0m\u001b[41m6\u001b[0m\u001b[44m4\u001b[0m\u001b[44m4\u001b[0m\u001b[44m4\u001b[0m\u001b[44m4\u001b[0m\u001b[43m3\u001b[0m\u001b[43m3\u001b[0m\u001b[43m3\u001b[0m\u001b[43m3\u001b[0m\u001b[41m6\u001b[0m\u001b[43m3\u001b[0m\u001b[44m4\u001b[0m\u001b[44m4\u001b[0m\u001b[43m3\u001b[0m\u001b[42m1\u001b[0m\u001b[44m4\u001b[0m\u001b[42m1\u001b[0m\u001b[43m3\u001b[0m\u001b[42m1\u001b[0m\u001b[42m1\u001b[0m\u001b[44m4\u001b[0m\u001b[42m1\u001b[0m\u001b[44m4\u001b[0m\u001b[42m1\u001b[0m\u001b[44m4\u001b[0m\u001b[42m1\u001b[0m\u001b[43m3\u001b[0m\u001b[44m4\u001b[0m\u001b[43m3\u001b[0m\u001b[44m4\u001b[0m\u001b[41m6\u001b[0m\u001b[44m4\u001b[0m\u001b[44m4\u001b[0m\u001b[44m4\u001b[0m\u001b[44m4\u001b[0m\u001b[44m4\u001b[0m\u001b[43m3\u001b[0m\u001b[44m4\u001b[0m\u001b[43m3\u001b[0m\u001b[44m4\u001b[0m\u001b[43m3\u001b[0m\u001b[43m3\u001b[0m\u001b[43m3\u001b[0m\u001b[44m4\u001b[0m\u001b[44m4\u001b[0m\u001b[43m3\u001b[0m\u001b[43m3\u001b[0m\u001b[42m1\u001b[0m\u001b[44m4\u001b[0m\u001b[43m3\u001b[0m\u001b[43m3\u001b[0m\u001b[44m4\u001b[0m\u001b[44m4\u001b[0m\u001b[44m4\u001b[0m\u001b[44m4\u001b[0m\u001b[44m4\u001b[0m\u001b[44m4\u001b[0m\u001b[43m3\u001b[0m\u001b[44m4\u001b[0m\u001b[43m3\u001b[0m\u001b[41m6\u001b[0m\u001b[43m3\u001b[0m\u001b[43m3\u001b[0m\u001b[44m4\u001b[0m\u001b[43m3\u001b[0m\u001b[44m4\u001b[0m\u001b[44m4\u001b[0m\u001b[41m6\u001b[0m\u001b[42m1\u001b[0m\u001b[43m3\u001b[0m\u001b[42m1\u001b[0m\u001b[44m4\u001b[0m\u001b[43m3\u001b[0m\u001b[43m3\u001b[0m\u001b[41m6\u001b[0m\u001b[43m3\u001b[0m\u001b[43m3\u001b[0m\u001b[42m1\u001b[0m\u001b[44m4\u001b[0m\u001b[43m3\u001b[0m\u001b[44m4\u001b[0m\u001b[43m3\u001b[0m\u001b[43m3\u001b[0m\u001b[42m1\u001b[0m\u001b[44m4\u001b[0m\u001b[41m6\u001b[0m\u001b[44m4\u001b[0m\u001b[42m1\u001b[0m\u001b[43m3\u001b[0m\u001b[41m6\u001b[0m\u001b[44m4\u001b[0m\u001b[44m4\u001b[0m\u001b[43m3\u001b[0m\u001b[42m1\u001b[0m\u001b[43m3\u001b[0m\u001b[41m6\u001b[0m\u001b[42m1\u001b[0m\u001b[43m3\u001b[0m\u001b[43m3\u001b[0m\u001b[42m1\u001b[0m\u001b[44m4\u001b[0m\u001b[44m4\u001b[0m\u001b[44m4\u001b[0m\u001b[43m3\u001b[0m\u001b[44m4\u001b[0m\u001b[44m4\u001b[0m\u001b[43m3\u001b[0m\u001b[44m4\u001b[0m\u001b[42m1\u001b[0m\u001b[43m3\u001b[0m\u001b[42m1\u001b[0m\u001b[43m3\u001b[0m\u001b[44m4\u001b[0m\u001b[44m4\u001b[0m\u001b[42m1\u001b[0m\u001b[44m4\u001b[0m\u001b[44m4\u001b[0m\u001b[44m4\u001b[0m\u001b[44m4\u001b[0m\u001b[44m4\u001b[0m\u001b[44m4\u001b[0m\u001b[43m3\u001b[0m\u001b[44m4\u001b[0m\u001b[44m4\u001b[0m\u001b[43m3\u001b[0m\u001b[42m1\u001b[0m\u001b[44m4\u001b[0m\u001b[41m6\u001b[0m\u001b[42m1\u001b[0m\u001b[44m4\u001b[0m\u001b[44m4\u001b[0m\u001b[43m3\u001b[0m\u001b[44m4\u001b[0m\u001b[44m4\u001b[0m\u001b[44m4\u001b[0m\u001b[44m4\u001b[0m\u001b[41m6\u001b[0m\u001b[44m4\u001b[0m\u001b[44m4\u001b[0m\u001b[43m3\u001b[0m\u001b[43m3\u001b[0m\u001b[44m4\u001b[0m\u001b[44m4\u001b[0m\u001b[43m3\u001b[0m\u001b[44m4\u001b[0m\u001b[44m4\u001b[0m\u001b[44m4\u001b[0m\u001b[44m4\u001b[0m\u001b[42m1\u001b[0m\u001b[42m1\u001b[0m\u001b[44m4\u001b[0m\u001b[44m4\u001b[0m\u001b[42m1\u001b[0m\u001b[42m1\u001b[0m\u001b[42m1\u001b[0m\u001b[42m1\u001b[0m\u001b[44m4\u001b[0m\u001b[44m4\u001b[0m\u001b[43m3\u001b[0m\u001b[43m3\u001b[0m\u001b[42m1\u001b[0m\u001b[43m3\u001b[0m\u001b[42m1\u001b[0m\u001b[44m4\u001b[0m\u001b[44m4\u001b[0m\u001b[42m1\u001b[0m\u001b[43m3\u001b[0m\u001b[44m4\u001b[0m\u001b[44m4\u001b[0m\u001b[43m3\u001b[0m\u001b[41m6\u001b[0m\u001b[44m4\u001b[0m\u001b[44m4\u001b[0m\u001b[42m1\u001b[0m\u001b[44m4\u001b[0m\u001b[42m1\u001b[0m\u001b[43m3\u001b[0m\u001b[44m4\u001b[0m\u001b[44m4\u001b[0m\u001b[44m4\u001b[0m\u001b[41m6\u001b[0m\u001b[43m3\u001b[0m\u001b[44m4\u001b[0m\u001b[44m4\u001b[0m\u001b[43m3\u001b[0m\u001b[44m4\u001b[0m\u001b[43m3\u001b[0m\u001b[44m4\u001b[0m\u001b[44m4\u001b[0m\u001b[41m6\u001b[0m\u001b[44m4\u001b[0m\u001b[43m3\u001b[0m\u001b[43m3\u001b[0m\u001b[41m6\u001b[0m\u001b[43m3\u001b[0m\u001b[44m4\u001b[0m\u001b[44m4\u001b[0m\u001b[42m1\u001b[0m\u001b[44m4\u001b[0m\u001b[44m4\u001b[0m\u001b[44m4\u001b[0m\u001b[41m6\u001b[0m\u001b[41m6\u001b[0m\u001b[42m1\u001b[0m\u001b[41m6\u001b[0m\u001b[43m3\u001b[0m\u001b[43m3\u001b[0m\u001b[43m3\u001b[0m\u001b[42m1\u001b[0m\u001b[44m4\u001b[0m\u001b[44m4\u001b[0m\u001b[44m4\u001b[0m\u001b[44m4\u001b[0m\u001b[44m4\u001b[0m\u001b[43m3\u001b[0m\u001b[43m3\u001b[0m\u001b[42m1\u001b[0m\u001b[43m3\u001b[0m\u001b[43m3\u001b[0m\u001b[44m4\u001b[0m\u001b[43m3\u001b[0m\u001b[44m4\u001b[0m\u001b[42m1\u001b[0m\u001b[43m3\u001b[0m\u001b[44m4\u001b[0m\u001b[44m4\u001b[0m\u001b[43m3\u001b[0m\u001b[42m1\u001b[0m\u001b[44m4\u001b[0m\u001b[44m4\u001b[0m\u001b[44m4\u001b[0m\u001b[44m4\u001b[0m\u001b[44m4\u001b[0m\u001b[44m4\u001b[0m\u001b[43m3\u001b[0m\u001b[43m3\u001b[0m\u001b[42m1\u001b[0m\u001b[41m6\u001b[0m\u001b[44m4\u001b[0m\u001b[41m6\u001b[0m\u001b[44m4\u001b[0m\u001b[41m6\u001b[0m\u001b[44m4\u001b[0m\u001b[42m1\u001b[0m\u001b[41m6\u001b[0m\u001b[44m4\u001b[0m\u001b[44m4\u001b[0m\u001b[43m3\u001b[0m\u001b[44m4\u001b[0m\u001b[43m3\u001b[0m\u001b[42m1\u001b[0m\u001b[43m3\u001b[0m\u001b[41m6\u001b[0m\u001b[43m3\u001b[0m\u001b[42m1\u001b[0m\u001b[42m1\u001b[0m\u001b[44m4\u001b[0m\u001b[43m3\u001b[0m\u001b[44m4\u001b[0m\u001b[44m4\u001b[0m\u001b[42m1\u001b[0m\u001b[44m4\u001b[0m\u001b[44m4\u001b[0m\u001b[42m1\u001b[0m\u001b[44m4\u001b[0m\u001b[42m1\u001b[0m\u001b[44m4\u001b[0m\u001b[43m3\u001b[0m\u001b[44m4\u001b[0m\u001b[42m1\u001b[0m\u001b[44m4\u001b[0m\u001b[42m1\u001b[0m\u001b[41m6\u001b[0m\u001b[43m3\u001b[0m\u001b[44m4\u001b[0m\u001b[44m4\u001b[0m\u001b[42m1\u001b[0m\u001b[42m1\u001b[0m\u001b[44m4\u001b[0m\u001b[42m1\u001b[0m\u001b[43m3\u001b[0m\u001b[44m4\u001b[0m\u001b[44m4\u001b[0m\u001b[44m4\u001b[0m\u001b[44m4\u001b[0m\u001b[44m4\u001b[0m\u001b[44m4\u001b[0m\u001b[42m1\u001b[0m\u001b[44m4\u001b[0m\u001b[44m4\u001b[0m\u001b[43m3\u001b[0m\u001b[43m3\u001b[0m\u001b[44m4\u001b[0m\u001b[43m3\u001b[0m\u001b[42m1\u001b[0m\u001b[44m4\u001b[0m\u001b[44m4\u001b[0m\u001b[43m3\u001b[0m\u001b[43m3\u001b[0m\u001b[42m1\u001b[0m\n",
      "\n",
      "\u001b[41m6\u001b[0m probability=0.10 frequency= 92/1000 = 0.09 \n",
      "\u001b[42m1\u001b[0m probability=0.20 frequency= 224/1000 = 0.22 \n",
      "\u001b[43m3\u001b[0m probability=0.30 frequency= 273/1000 = 0.27 \n",
      "\u001b[44m4\u001b[0m probability=0.40 frequency= 411/1000 = 0.41 \n"
     ]
    }
   ],
   "source": [
    "n=1000\n",
    "R=np.random.rand(n)\n",
    "_syms,counts=rand2sym(R)\n",
    "print(''.join(_syms))\n",
    "#print counts\n",
    "f=[float(y)/n for x,y in counts.items()]\n",
    "print()\n",
    "#print 'number of trials (n)=',n\n",
    "for i in range(4):\n",
    "    print('%s probability=%3.2f frequency= %d/%d = %3.2f '%(sym[i],p[i+1],counts[i],n,f[i]))"
   ]
  }
 ],
 "metadata": {
  "kernelspec": {
   "display_name": "Python 3",
   "language": "python",
   "name": "python3"
  },
  "language_info": {
   "codemirror_mode": {
    "name": "ipython",
    "version": 3
   },
   "file_extension": ".py",
   "mimetype": "text/x-python",
   "name": "python",
   "nbconvert_exporter": "python",
   "pygments_lexer": "ipython3",
   "version": "3.7.1"
  },
  "toc": {
   "base_numbering": 1,
   "nav_menu": {
    "height": "12px",
    "width": "252px"
   },
   "number_sections": true,
   "sideBar": true,
   "skip_h1_title": false,
   "title_cell": "Table of Contents",
   "title_sidebar": "Contents",
   "toc_cell": false,
   "toc_position": {},
   "toc_section_display": "block",
   "toc_window_display": false
  },
  "varInspector": {
   "cols": {
    "lenName": 16,
    "lenType": 16,
    "lenVar": 40
   },
   "kernels_config": {
    "python": {
     "delete_cmd_postfix": "",
     "delete_cmd_prefix": "del ",
     "library": "var_list.py",
     "varRefreshCmd": "print(var_dic_list())"
    },
    "r": {
     "delete_cmd_postfix": ") ",
     "delete_cmd_prefix": "rm(",
     "library": "var_list.r",
     "varRefreshCmd": "cat(var_dic_list()) "
    }
   },
   "types_to_exclude": [
    "module",
    "function",
    "builtin_function_or_method",
    "instance",
    "_Feature"
   ],
   "window_display": false
  }
 },
 "nbformat": 4,
 "nbformat_minor": 2
}
